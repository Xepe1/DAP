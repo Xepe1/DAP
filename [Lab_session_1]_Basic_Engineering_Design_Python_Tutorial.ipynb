{
  "nbformat": 4,
  "nbformat_minor": 0,
  "metadata": {
    "colab": {
      "provenance": [],
      "include_colab_link": true
    },
    "language_info": {
      "name": "python"
    },
    "kernelspec": {
      "name": "python3",
      "display_name": "Python 3"
    }
  },
  "cells": [
    {
      "cell_type": "markdown",
      "metadata": {
        "id": "view-in-github",
        "colab_type": "text"
      },
      "source": [
        "<a href=\"https://colab.research.google.com/github/Xepe1/DAP/blob/main/%5BLab_session_1%5D_Basic_Engineering_Design_Python_Tutorial.ipynb\" target=\"_parent\"><img src=\"https://colab.research.google.com/assets/colab-badge.svg\" alt=\"Open In Colab\"/></a>"
      ]
    },
    {
      "cell_type": "markdown",
      "source": [
        "#Basic Engineering Design - Python Tutorial"
      ],
      "metadata": {
        "id": "Uq_v1RoHOJRw"
      }
    },
    {
      "cell_type": "markdown",
      "source": [
        "Adapted by [Volodymyr Kuleshov](http://web.stanford.edu/~kuleshov/) and [Isaac Caswell](https://symsys.stanford.edu/viewing/symsysaffiliate/21335) from the `CS231n` Python tutorial by Justin Johnson (http://cs231n.github.io/python-numpy-tutorial/)."
      ],
      "metadata": {
        "id": "7yvmwS-yOJRy"
      }
    },
    {
      "cell_type": "markdown",
      "source": [
        "##Introduction"
      ],
      "metadata": {
        "id": "1TmhkZ9TOJRy"
      }
    },
    {
      "cell_type": "markdown",
      "source": [
        "Python is a great general-purpose programming language on its own, but with the help of a few popular libraries (numpy, scipy, matplotlib) it becomes a powerful environment for scientific computing.\n",
        "\n",
        "We expect that many of you will have some experience with Python and numpy; for the rest of you, this section will serve as a quick crash course both on the Python programming language and on the use of Python for scientific computing.\n",
        "\n",
        "Some of you may have previous knowledge in Matlab, in which case we also recommend the numpy for Matlab users page (https://docs.scipy.org/doc/numpy-dev/user/numpy-for-matlab-users.html)."
      ],
      "metadata": {
        "id": "Xsrl1xkMOJRz"
      }
    },
    {
      "cell_type": "markdown",
      "source": [
        "In this tutorial, we will cover:\n",
        "\n",
        "* Basic Python: Basic data types (Containers, Lists, Dictionaries, Sets, Tuples), Functions, Classes\n",
        "* Numpy: Arrays, Array indexing, Datatypes, Array math, Broadcasting\n",
        "* Matplotlib: Plotting, Subplots, Images\n",
        "* IPython: Creating notebooks, Typical workflows"
      ],
      "metadata": {
        "id": "uF_cQ4dkOJRz"
      }
    },
    {
      "cell_type": "markdown",
      "source": [
        "##Basics of Python"
      ],
      "metadata": {
        "id": "D2kt63DeOJRz"
      }
    },
    {
      "cell_type": "markdown",
      "source": [
        "Python is a high-level, dynamically typed multiparadigm programming language. Python code is often said to be almost like pseudocode, since it allows you to express very powerful ideas in very few lines of code while being very readable. As an example, here is an implementation of the classic quicksort algorithm in Python:"
      ],
      "metadata": {
        "id": "oVQ9wM3eOJRz"
      }
    },
    {
      "cell_type": "code",
      "source": [
        "def quicksort(arr):\n",
        "    if len(arr) <= 1:\n",
        "        return arr\n",
        "    pivot = arr[len(arr) // 2]\n",
        "    left = [x for x in arr if x < pivot]\n",
        "    middle = [x for x in arr if x == pivot]\n",
        "    right = [x for x in arr if x > pivot]\n",
        "    return quicksort(left) + middle + quicksort(right)\n",
        "\n",
        "print(quicksort([3,6,8,10,1,2,1]))"
      ],
      "outputs": [
        {
          "output_type": "stream",
          "name": "stdout",
          "text": [
            "[1, 1, 2, 3, 6, 8, 10]\n"
          ]
        }
      ],
      "metadata": {
        "id": "ZkLP9i5QOJR0",
        "outputId": "3561a863-9b97-4593-fc28-1315a529347b",
        "colab": {
          "base_uri": "https://localhost:8080/"
        }
      },
      "execution_count": 4
    },
    {
      "cell_type": "markdown",
      "source": [
        "###Python versions"
      ],
      "metadata": {
        "id": "hhX6HSRhOJR1"
      }
    },
    {
      "cell_type": "markdown",
      "source": [
        "There are currently two different supported versions of Python, 2.7 and 3.4. Somewhat confusingly, Python 3.0 introduced many backwards-incompatible changes to the language, so code written for 2.7 may not work under 3.4 and vice versa. For this class all code will use Python 2.7.\n",
        "\n",
        "You can check your Python version at the command line by running `python --version`."
      ],
      "metadata": {
        "id": "e7_kBa84OJR1"
      }
    },
    {
      "cell_type": "markdown",
      "source": [
        "###Basic data types"
      ],
      "metadata": {
        "id": "3btBDELyOJR1"
      }
    },
    {
      "cell_type": "markdown",
      "source": [
        "####Numbers"
      ],
      "metadata": {
        "id": "N3p7Ms-kOJR1"
      }
    },
    {
      "cell_type": "markdown",
      "source": [
        "Integers and floats work as you would expect from other languages:"
      ],
      "metadata": {
        "id": "srIgnNk0OJR1"
      }
    },
    {
      "cell_type": "code",
      "source": [
        "x = 3\n",
        "print(x, type(x))"
      ],
      "outputs": [
        {
          "output_type": "stream",
          "name": "stdout",
          "text": [
            "3 <class 'int'>\n"
          ]
        }
      ],
      "metadata": {
        "id": "oFp_PJf3OJR1",
        "outputId": "1944ff0f-4e77-4aaf-e48f-22b89f738abf",
        "colab": {
          "base_uri": "https://localhost:8080/"
        }
      },
      "execution_count": 6
    },
    {
      "cell_type": "code",
      "source": [
        "print(x + 1)   # Addition;\n",
        "print(x - 1)   # Subtraction;\n",
        "print(x * 2)  # Multiplication;\n",
        "print(x ** 2)  # Exponentiation;"
      ],
      "outputs": [
        {
          "output_type": "error",
          "ename": "NameError",
          "evalue": "ignored",
          "traceback": [
            "\u001b[0;31m---------------------------------------------------------------------------\u001b[0m",
            "\u001b[0;31mNameError\u001b[0m                                 Traceback (most recent call last)",
            "\u001b[0;32m<ipython-input-5-c784d74aeddc>\u001b[0m in \u001b[0;36m<cell line: 1>\u001b[0;34m()\u001b[0m\n\u001b[0;32m----> 1\u001b[0;31m \u001b[0mprint\u001b[0m\u001b[0;34m(\u001b[0m\u001b[0mx\u001b[0m \u001b[0;34m+\u001b[0m \u001b[0;36m1\u001b[0m\u001b[0;34m)\u001b[0m   \u001b[0;31m# Addition;\u001b[0m\u001b[0;34m\u001b[0m\u001b[0;34m\u001b[0m\u001b[0m\n\u001b[0m\u001b[1;32m      2\u001b[0m \u001b[0mprint\u001b[0m\u001b[0;34m(\u001b[0m\u001b[0mx\u001b[0m \u001b[0;34m-\u001b[0m \u001b[0;36m1\u001b[0m\u001b[0;34m)\u001b[0m   \u001b[0;31m# Subtraction;\u001b[0m\u001b[0;34m\u001b[0m\u001b[0;34m\u001b[0m\u001b[0m\n\u001b[1;32m      3\u001b[0m \u001b[0mprint\u001b[0m\u001b[0;34m(\u001b[0m\u001b[0mx\u001b[0m \u001b[0;34m*\u001b[0m \u001b[0;36m2\u001b[0m\u001b[0;34m)\u001b[0m  \u001b[0;31m# Multiplication;\u001b[0m\u001b[0;34m\u001b[0m\u001b[0;34m\u001b[0m\u001b[0m\n\u001b[1;32m      4\u001b[0m \u001b[0mprint\u001b[0m\u001b[0;34m(\u001b[0m\u001b[0mx\u001b[0m \u001b[0;34m**\u001b[0m \u001b[0;36m2\u001b[0m\u001b[0;34m)\u001b[0m  \u001b[0;31m# Exponentiation;\u001b[0m\u001b[0;34m\u001b[0m\u001b[0;34m\u001b[0m\u001b[0m\n",
            "\u001b[0;31mNameError\u001b[0m: name 'x' is not defined"
          ]
        }
      ],
      "metadata": {
        "id": "WRkaVB2uOJR1",
        "outputId": "31e07d03-62a9-4106-f3fc-b247f813e061",
        "colab": {
          "base_uri": "https://localhost:8080/",
          "height": 239
        }
      },
      "execution_count": 5
    },
    {
      "cell_type": "code",
      "source": [
        "x += 1\n",
        "print x  # Prints \"4\"\n",
        "x *= 2\n",
        "print x  # Prints \"8\""
      ],
      "outputs": [
        {
          "output_type": "error",
          "ename": "SyntaxError",
          "evalue": "ignored",
          "traceback": [
            "\u001b[0;36m  File \u001b[0;32m\"<ipython-input-7-e770892d7bda>\"\u001b[0;36m, line \u001b[0;32m2\u001b[0m\n\u001b[0;31m    print(x  # Prints \"4\")\u001b[0m\n\u001b[0m          ^\u001b[0m\n\u001b[0;31mSyntaxError\u001b[0m\u001b[0;31m:\u001b[0m invalid syntax. Perhaps you forgot a comma?\n"
          ]
        }
      ],
      "metadata": {
        "id": "888wf9SgOJR2",
        "outputId": "e85e6199-580a-4ccb-bf19-a936054cb4dc",
        "colab": {
          "base_uri": "https://localhost:8080/",
          "height": 147
        }
      },
      "execution_count": 7
    },
    {
      "cell_type": "code",
      "source": [
        "y = 2.5\n",
        "print type(y) # Prints \"<type 'float'>\"\n",
        "print y, y + 1, y * 2, y ** 2 # Prints \"2.5 3.5 5.0 6.25\""
      ],
      "outputs": [
        {
          "output_type": "stream",
          "text": [
            "<type 'float'>\n",
            "2.5 3.5 5.0 6.25\n"
          ],
          "name": "stdout"
        }
      ],
      "metadata": {
        "id": "XWr5ePjrOJR2",
        "outputId": "dd59acee-29be-4c43-9331-846b4b43a827"
      },
      "execution_count": null
    },
    {
      "cell_type": "markdown",
      "source": [
        "Note that unlike many languages, Python does not have unary increment (x++) or decrement (x--) operators.\n",
        "\n",
        "Python also has built-in types for long integers and complex numbers; you can find all of the details in the [documentation](https://docs.python.org/2/library/stdtypes.html#numeric-types-int-float-long-complex)."
      ],
      "metadata": {
        "id": "jORKsMsaOJR2"
      }
    },
    {
      "cell_type": "markdown",
      "source": [
        "####Booleans"
      ],
      "metadata": {
        "id": "jrS3tzofOJR2"
      }
    },
    {
      "cell_type": "markdown",
      "source": [
        "Python implements all of the usual operators for Boolean logic, but uses English words rather than symbols (`&&`, `||`, etc.):"
      ],
      "metadata": {
        "id": "h65rloIXOJR2"
      }
    },
    {
      "cell_type": "code",
      "source": [
        "t, f = True, False\n",
        "print type(t) # Prints \"<type 'bool'>\""
      ],
      "outputs": [
        {
          "output_type": "stream",
          "text": [
            "<type 'bool'>\n"
          ],
          "name": "stdout"
        }
      ],
      "metadata": {
        "id": "ad35gOA5OJR2",
        "outputId": "11a9ab4b-3d76-40ea-b8b6-778cbb1e9aed"
      },
      "execution_count": null
    },
    {
      "cell_type": "markdown",
      "source": [
        "Now we let's look at the operations:"
      ],
      "metadata": {
        "id": "MIXu_xXOOJR2"
      }
    },
    {
      "cell_type": "code",
      "source": [
        "print t and f # Logical AND;\n",
        "print t or f  # Logical OR;\n",
        "print not t   # Logical NOT;\n",
        "print t != f  # Logical XOR;"
      ],
      "outputs": [
        {
          "output_type": "stream",
          "text": [
            "False\n",
            "True\n",
            "False\n",
            "True\n"
          ],
          "name": "stdout"
        }
      ],
      "metadata": {
        "id": "5YREn-21OJR2",
        "outputId": "33523c2e-4c66-430f-aace-f63e0bd6f3c6"
      },
      "execution_count": null
    },
    {
      "cell_type": "markdown",
      "source": [
        "####Strings"
      ],
      "metadata": {
        "id": "ZCX-ih_fOJR2"
      }
    },
    {
      "cell_type": "code",
      "source": [
        "hello = 'hello'   # String literals can use single quotes\n",
        "world = \"world\"   # or double quotes; it does not matter.\n",
        "print(hello, len(hello))"
      ],
      "outputs": [
        {
          "output_type": "stream",
          "name": "stdout",
          "text": [
            "hello 5\n"
          ]
        }
      ],
      "metadata": {
        "id": "02d_btMHOJR2",
        "outputId": "d373a833-48f8-4368-88f5-87c7539c7c35",
        "colab": {
          "base_uri": "https://localhost:8080/"
        }
      },
      "execution_count": 9
    },
    {
      "cell_type": "code",
      "source": [
        "hw = hello + ' ' + world  # String concatenation\n",
        "print(hw)  # prints \"hello world\""
      ],
      "outputs": [
        {
          "output_type": "stream",
          "name": "stdout",
          "text": [
            "hello world\n"
          ]
        }
      ],
      "metadata": {
        "id": "lgO27Ec_OJR2",
        "outputId": "8dfaf094-94c4-43b6-eec3-96ddc2a8017f",
        "colab": {
          "base_uri": "https://localhost:8080/"
        }
      },
      "execution_count": 10
    },
    {
      "cell_type": "code",
      "source": [
        "hw12 = '%s %s %d' % (hello, world, 12)  # sprintf style string formatting\n",
        "print(hw12)  # prints \"hello world 12\""
      ],
      "outputs": [
        {
          "output_type": "stream",
          "name": "stdout",
          "text": [
            "hello world 12\n"
          ]
        }
      ],
      "metadata": {
        "id": "xKE9FkYQOJR2",
        "outputId": "a6c1dbdf-c417-46af-a3d0-b1dd29a84c48",
        "colab": {
          "base_uri": "https://localhost:8080/"
        }
      },
      "execution_count": 11
    },
    {
      "cell_type": "markdown",
      "source": [
        "String objects have a bunch of useful methods; for example:"
      ],
      "metadata": {
        "id": "UsL2R8KiOJR2"
      }
    },
    {
      "cell_type": "code",
      "source": [
        "s = \"hello\"\n",
        "print(s.capitalize())  # Capitalize a string; prints \"Hello\"\n",
        "print(s.upper())       # Convert a string to uppercase; prints \"HELLO\"\n",
        "print(s.rjust(7))      # Right-justify a string, padding with spaces; prints \"  hello\"\n",
        "print(s.center(7))     # Center a string, padding with spaces; prints \" hello \"\n",
        "print(s.replace('l', '(ell)'))  # Replace all instances of one substring with another;\n",
        "                               # prints \"he(ell)(ell)o\"\n",
        "print('  world '.strip())  # Strip leading and trailing whitespace; prints \"world\""
      ],
      "outputs": [
        {
          "output_type": "stream",
          "text": [
            "Hello\n",
            "HELLO\n",
            "  hello\n",
            " hello \n",
            "he(ell)(ell)o\n",
            "world\n"
          ],
          "name": "stdout"
        }
      ],
      "metadata": {
        "id": "VkHzygVCOJR3",
        "outputId": "ac6b7c9c-c7ff-49e1-c7cb-a7301b811409"
      },
      "execution_count": null
    },
    {
      "cell_type": "markdown",
      "source": [
        "You can find a list of all string methods in the [documentation](https://docs.python.org/2/library/stdtypes.html#string-methods)."
      ],
      "metadata": {
        "id": "2hNzQKR2OJR3"
      }
    },
    {
      "cell_type": "markdown",
      "source": [
        "###Containers"
      ],
      "metadata": {
        "id": "c2zdIIesOJR3"
      }
    },
    {
      "cell_type": "markdown",
      "source": [
        "Python includes several built-in container types: lists, dictionaries, sets, and tuples."
      ],
      "metadata": {
        "id": "onv-S9tyOJR3"
      }
    },
    {
      "cell_type": "markdown",
      "source": [
        "####Lists"
      ],
      "metadata": {
        "id": "VQZPhZ5MOJR3"
      }
    },
    {
      "cell_type": "markdown",
      "source": [
        "A list is the Python equivalent of an array, but is resizeable and can contain elements of different types:"
      ],
      "metadata": {
        "id": "lidwiNDoOJR3"
      }
    },
    {
      "cell_type": "code",
      "source": [
        "xs = [3, 1, 2]   # Create a list\n",
        "print(xs, xs[2])\n",
        "#print(xs[#])     # Negative indices count from the end of the list; prints \"2\""
      ],
      "outputs": [
        {
          "output_type": "stream",
          "name": "stdout",
          "text": [
            "[3, 1, 2] 2\n"
          ]
        }
      ],
      "metadata": {
        "id": "2j9p_7hzOJR3",
        "outputId": "cc1cb4ec-0bfe-486a-a640-6948c5fe7949",
        "colab": {
          "base_uri": "https://localhost:8080/"
        }
      },
      "execution_count": 13
    },
    {
      "cell_type": "code",
      "source": [
        "xs[2] = 'foo'    # Lists can contain elements of different types\n",
        "print(xs)"
      ],
      "outputs": [
        {
          "output_type": "stream",
          "name": "stdout",
          "text": [
            "[3, 1, 'foo']\n"
          ]
        }
      ],
      "metadata": {
        "id": "YSsjQ0TPOJR3",
        "outputId": "4f8ba97b-18fa-4695-a22e-412b0232cfb1",
        "colab": {
          "base_uri": "https://localhost:8080/"
        }
      },
      "execution_count": 14
    },
    {
      "cell_type": "code",
      "source": [
        "xs.append('bar') # Add a new element to the end of the list\n",
        "print(xs)"
      ],
      "outputs": [
        {
          "output_type": "stream",
          "name": "stdout",
          "text": [
            "[3, 1, 'foo', 'bar']\n"
          ]
        }
      ],
      "metadata": {
        "id": "UBoFDSoJOJR3",
        "outputId": "af8920b6-ed53-4464-c093-d5c71ee4a1e8",
        "colab": {
          "base_uri": "https://localhost:8080/"
        }
      },
      "execution_count": 16
    },
    {
      "cell_type": "code",
      "source": [
        "x = xs.pop()     # Remove and return the last element of the list\n",
        "print(x, xs)"
      ],
      "outputs": [
        {
          "output_type": "stream",
          "name": "stdout",
          "text": [
            "bar [3, 1, 'foo']\n"
          ]
        }
      ],
      "metadata": {
        "id": "v2MVdaPbOJR3",
        "outputId": "821ede4d-fdcd-4f6c-90ab-a9c377304ea0",
        "colab": {
          "base_uri": "https://localhost:8080/"
        }
      },
      "execution_count": 18
    },
    {
      "cell_type": "markdown",
      "source": [
        "As usual, you can find all the gory details about lists in the [documentation](https://docs.python.org/2/tutorial/datastructures.html#more-on-lists)."
      ],
      "metadata": {
        "id": "Z0CYpWLqOJR3"
      }
    },
    {
      "cell_type": "markdown",
      "source": [
        "####Slicing"
      ],
      "metadata": {
        "id": "mQ-Z2vhgOJR7"
      }
    },
    {
      "cell_type": "markdown",
      "source": [
        "In addition to accessing list elements one at a time, Python provides concise syntax to access sublists; this is known as slicing:"
      ],
      "metadata": {
        "id": "ksENFe8AOJR7"
      }
    },
    {
      "cell_type": "code",
      "source": [
        "nums = range(5)    # range is a built-in function that creates a list of integers\n",
        "print(nums)         # Prints \"[0, 1, 2, 3, 4]\"\n",
        "print(nums[2:4])    # Get a slice from index 2 to 4 (exclusive); prints \"[2, 3]\"\n",
        "print(nums[2:])     # Get a slice from index 2 to the end; prints \"[2, 3, 4]\"\n",
        "print(nums[:2])     # Get a slice from the start to index 2 (exclusive); prints \"[0, 1]\"\n",
        "print(nums[:])      # Get a slice of the whole list; prints [\"0, 1, 2, 3, 4]\"\n",
        "print(nums[:-1])    # Slice indices can be negative; prints [\"0, 1, 2, 3]\"\n",
        "nums[2:4] = [8, 9] # Assign a new sublist to a slice\n",
        "print(nums)         # Prints \"[0, 1, 8, 9, 4]\""
      ],
      "outputs": [
        {
          "output_type": "stream",
          "name": "stdout",
          "text": [
            "range(0, 5)\n",
            "range(2, 4)\n",
            "range(2, 5)\n",
            "range(0, 2)\n",
            "range(0, 5)\n",
            "range(0, 4)\n"
          ]
        },
        {
          "output_type": "error",
          "ename": "TypeError",
          "evalue": "ignored",
          "traceback": [
            "\u001b[0;31m---------------------------------------------------------------------------\u001b[0m",
            "\u001b[0;31mTypeError\u001b[0m                                 Traceback (most recent call last)",
            "\u001b[0;32m<ipython-input-22-e292f3702fa8>\u001b[0m in \u001b[0;36m<cell line: 8>\u001b[0;34m()\u001b[0m\n\u001b[1;32m      6\u001b[0m \u001b[0mprint\u001b[0m\u001b[0;34m(\u001b[0m\u001b[0mnums\u001b[0m\u001b[0;34m[\u001b[0m\u001b[0;34m:\u001b[0m\u001b[0;34m]\u001b[0m\u001b[0;34m)\u001b[0m      \u001b[0;31m# Get a slice of the whole list; prints [\"0, 1, 2, 3, 4]\"\u001b[0m\u001b[0;34m\u001b[0m\u001b[0;34m\u001b[0m\u001b[0m\n\u001b[1;32m      7\u001b[0m \u001b[0mprint\u001b[0m\u001b[0;34m(\u001b[0m\u001b[0mnums\u001b[0m\u001b[0;34m[\u001b[0m\u001b[0;34m:\u001b[0m\u001b[0;34m-\u001b[0m\u001b[0;36m1\u001b[0m\u001b[0;34m]\u001b[0m\u001b[0;34m)\u001b[0m    \u001b[0;31m# Slice indices can be negative; prints [\"0, 1, 2, 3]\"\u001b[0m\u001b[0;34m\u001b[0m\u001b[0;34m\u001b[0m\u001b[0m\n\u001b[0;32m----> 8\u001b[0;31m \u001b[0mnums\u001b[0m\u001b[0;34m[\u001b[0m\u001b[0;36m2\u001b[0m\u001b[0;34m:\u001b[0m\u001b[0;36m4\u001b[0m\u001b[0;34m]\u001b[0m \u001b[0;34m=\u001b[0m \u001b[0;34m[\u001b[0m\u001b[0;36m8\u001b[0m\u001b[0;34m,\u001b[0m \u001b[0;36m9\u001b[0m\u001b[0;34m]\u001b[0m \u001b[0;31m# Assign a new sublist to a slice\u001b[0m\u001b[0;34m\u001b[0m\u001b[0;34m\u001b[0m\u001b[0m\n\u001b[0m\u001b[1;32m      9\u001b[0m \u001b[0mprint\u001b[0m\u001b[0;34m(\u001b[0m\u001b[0mnums\u001b[0m\u001b[0;34m)\u001b[0m         \u001b[0;31m# Prints \"[0, 1, 8, 9, 4]\"\u001b[0m\u001b[0;34m\u001b[0m\u001b[0;34m\u001b[0m\u001b[0m\n",
            "\u001b[0;31mTypeError\u001b[0m: 'range' object does not support item assignment"
          ]
        }
      ],
      "metadata": {
        "id": "JtNtVArpOJR7",
        "outputId": "cd6c056e-eaf3-4001-8de2-b3db8110730e",
        "colab": {
          "base_uri": "https://localhost:8080/",
          "height": 349
        }
      },
      "execution_count": 22
    },
    {
      "cell_type": "markdown",
      "source": [
        "####Loops"
      ],
      "metadata": {
        "id": "Ai_cu7m3OJR7"
      }
    },
    {
      "cell_type": "markdown",
      "source": [
        "You can loop over the elements of a list like this:"
      ],
      "metadata": {
        "id": "IgKtIJocOJR7"
      }
    },
    {
      "cell_type": "code",
      "source": [
        "animals = ['cat', 'dog', 'monkey']\n",
        "for animal in animals:\n",
        "    print(animal)"
      ],
      "outputs": [
        {
          "output_type": "stream",
          "name": "stdout",
          "text": [
            "cat\n",
            "dog\n",
            "monkey\n"
          ]
        }
      ],
      "metadata": {
        "id": "LfQboLvkOJR7",
        "outputId": "4d170b50-510d-4d50-c7db-ce2ddfa05f74",
        "colab": {
          "base_uri": "https://localhost:8080/"
        }
      },
      "execution_count": 23
    },
    {
      "cell_type": "markdown",
      "source": [
        "If you want access to the index of each element within the body of a loop, use the built-in `enumerate` function:"
      ],
      "metadata": {
        "id": "KkB8h3yhOJR7"
      }
    },
    {
      "cell_type": "code",
      "source": [
        "animals = ['cat', 'dog', 'monkey']\n",
        "for idx, animal in enumerate(animals):\n",
        "    print('#%d: %s' % (idx + 1, animal))"
      ],
      "outputs": [
        {
          "output_type": "stream",
          "name": "stdout",
          "text": [
            "#1: cat\n",
            "#2: dog\n",
            "#3: monkey\n"
          ]
        }
      ],
      "metadata": {
        "id": "3V6CKS_HOJR7",
        "outputId": "846c70f9-be9e-4db7-a3fc-ac3c14e48ffb",
        "colab": {
          "base_uri": "https://localhost:8080/"
        }
      },
      "execution_count": 25
    },
    {
      "cell_type": "markdown",
      "source": [
        "####List comprehensions:"
      ],
      "metadata": {
        "id": "yzuXGodBOJR7"
      }
    },
    {
      "cell_type": "markdown",
      "source": [
        "When programming, frequently we want to transform one type of data into another. As a simple example, consider the following code that computes square numbers:"
      ],
      "metadata": {
        "id": "HAyPvpyFOJR8"
      }
    },
    {
      "cell_type": "code",
      "source": [
        "nums = [0, 1, 2, 3, 4]\n",
        "squares = []\n",
        "for x in nums:\n",
        "    squares.append(x ** 2)\n",
        "print(squares)"
      ],
      "outputs": [
        {
          "output_type": "stream",
          "name": "stdout",
          "text": [
            "[0, 1, 4, 9, 16]\n"
          ]
        }
      ],
      "metadata": {
        "id": "wUpJsy31OJR8",
        "outputId": "29260b31-900e-40e1-8b7c-2ff3c325e5c4",
        "colab": {
          "base_uri": "https://localhost:8080/"
        }
      },
      "execution_count": 26
    },
    {
      "cell_type": "markdown",
      "source": [
        "You can make this code simpler using a list comprehension:"
      ],
      "metadata": {
        "id": "gTmLrGLPOJR8"
      }
    },
    {
      "cell_type": "code",
      "source": [
        "nums = [0, 1, 2, 3, 4]\n",
        "squares = [x ** 2 for x in nums]\n",
        "print(squares)"
      ],
      "outputs": [
        {
          "output_type": "stream",
          "name": "stdout",
          "text": [
            "[0, 1, 4, 9, 16]\n"
          ]
        }
      ],
      "metadata": {
        "id": "ix_rijVDOJR8",
        "outputId": "0c8f2caf-d214-4cc9-eb5a-d1510614d289",
        "colab": {
          "base_uri": "https://localhost:8080/"
        }
      },
      "execution_count": 27
    },
    {
      "cell_type": "markdown",
      "source": [
        "List comprehensions can also contain conditions:"
      ],
      "metadata": {
        "id": "RB5-qpK-OJR8"
      }
    },
    {
      "cell_type": "code",
      "source": [
        "nums = [0, 1, 2, 3, 4]\n",
        "even_squares = [x ** 2 for x in nums if x % 2 == 0]\n",
        "print(even_squares)"
      ],
      "outputs": [
        {
          "output_type": "stream",
          "name": "stdout",
          "text": [
            "[0, 4, 16]\n"
          ]
        }
      ],
      "metadata": {
        "id": "WbXgY_GyOJR8",
        "outputId": "ec5b7034-6b66-47d4-82ea-d1995beeec57",
        "colab": {
          "base_uri": "https://localhost:8080/"
        }
      },
      "execution_count": 28
    },
    {
      "cell_type": "markdown",
      "source": [
        "####Dictionaries"
      ],
      "metadata": {
        "id": "Yxtb56aCOJR8"
      }
    },
    {
      "cell_type": "markdown",
      "source": [
        "A dictionary stores (key, value) pairs, similar to a `Map` in Java or an object in Javascript. You can use it like this:"
      ],
      "metadata": {
        "id": "wZcoAWvHOJR8"
      }
    },
    {
      "cell_type": "code",
      "source": [
        "d = {'cat': 'cute', 'dog': 'furry'}  # Create a new dictionary with some data\n",
        "print(d['cat'])       # Get an entry from a dictionary; prints \"cute\"\n",
        "print('cat' in d)     # Check if a dictionary has a given key; prints \"True\""
      ],
      "outputs": [
        {
          "output_type": "stream",
          "name": "stdout",
          "text": [
            "cute\n",
            "True\n"
          ]
        }
      ],
      "metadata": {
        "id": "SVgVlo5IOJR8",
        "outputId": "c28c66e9-0a97-4c7b-acef-dd4d3fff48af",
        "colab": {
          "base_uri": "https://localhost:8080/"
        }
      },
      "execution_count": 29
    },
    {
      "cell_type": "code",
      "source": [
        "d['fish'] = 'wet'    # Set an entry in a dictionary\n",
        "print(d['fish'])      # Prints \"wet\""
      ],
      "outputs": [
        {
          "output_type": "stream",
          "name": "stdout",
          "text": [
            "wet\n"
          ]
        }
      ],
      "metadata": {
        "id": "W_WjFou_OJR8",
        "outputId": "0723fb91-2ed2-4642-afe8-22cf7eab89c1",
        "colab": {
          "base_uri": "https://localhost:8080/"
        }
      },
      "execution_count": 30
    },
    {
      "cell_type": "code",
      "source": [
        "print(d['monkey'])  # KeyError: 'monkey' not a key of d"
      ],
      "outputs": [
        {
          "output_type": "error",
          "ename": "KeyError",
          "evalue": "ignored",
          "traceback": [
            "\u001b[0;31m---------------------------------------------------------------------------\u001b[0m",
            "\u001b[0;31mKeyError\u001b[0m                                  Traceback (most recent call last)",
            "\u001b[0;32m<ipython-input-31-78fc9745d9cf>\u001b[0m in \u001b[0;36m<cell line: 1>\u001b[0;34m()\u001b[0m\n\u001b[0;32m----> 1\u001b[0;31m \u001b[0mprint\u001b[0m\u001b[0;34m(\u001b[0m\u001b[0md\u001b[0m\u001b[0;34m[\u001b[0m\u001b[0;34m'monkey'\u001b[0m\u001b[0;34m]\u001b[0m\u001b[0;34m)\u001b[0m  \u001b[0;31m# KeyError: 'monkey' not a key of d\u001b[0m\u001b[0;34m\u001b[0m\u001b[0;34m\u001b[0m\u001b[0m\n\u001b[0m",
            "\u001b[0;31mKeyError\u001b[0m: 'monkey'"
          ]
        }
      ],
      "metadata": {
        "id": "dIxH0xCNOJR8",
        "outputId": "50f0bd9b-f3d9-47ed-8acb-7486739c8a17",
        "colab": {
          "base_uri": "https://localhost:8080/",
          "height": 184
        }
      },
      "execution_count": 31
    },
    {
      "cell_type": "code",
      "source": [
        "print(d.get('monkey', 'N/A'))  # Get an element with a default; prints \"N/A\"\n",
        "print(d.get('fish', 'N/A'))    # Get an element with a default; prints \"wet\""
      ],
      "outputs": [
        {
          "output_type": "stream",
          "name": "stdout",
          "text": [
            "N/A\n",
            "wet\n"
          ]
        }
      ],
      "metadata": {
        "id": "yqGjWl7-OJR8",
        "outputId": "8f6db51d-ee9a-4797-db80-9edcb470d638",
        "colab": {
          "base_uri": "https://localhost:8080/"
        }
      },
      "execution_count": 32
    },
    {
      "cell_type": "code",
      "source": [
        "del d['fish']        # Remove an element from a dictionary\n",
        "print(d.get('fish', 'N/A')) # \"fish\" is no longer a key; prints \"N/A\""
      ],
      "outputs": [
        {
          "output_type": "stream",
          "name": "stdout",
          "text": [
            "N/A\n"
          ]
        }
      ],
      "metadata": {
        "id": "jCbgsYHCOJR8",
        "outputId": "9ba3f485-569a-4a78-9d91-17d94b7e6c85",
        "colab": {
          "base_uri": "https://localhost:8080/"
        }
      },
      "execution_count": 33
    },
    {
      "cell_type": "markdown",
      "source": [
        "You can find all you need to know about dictionaries in the [documentation](https://docs.python.org/2/library/stdtypes.html#dict)."
      ],
      "metadata": {
        "id": "aQbUl4YpOJR8"
      }
    },
    {
      "cell_type": "markdown",
      "source": [
        "It is easy to iterate over the keys in a dictionary:"
      ],
      "metadata": {
        "id": "wxqtR9ryOJR8"
      }
    },
    {
      "cell_type": "code",
      "source": [
        "d = {'person': 2, 'cat': 4, 'spider': 8}\n",
        "for animal in d:\n",
        "    legs = d[animal]\n",
        "    print('A %s has %d legs' % (animal, legs))"
      ],
      "outputs": [
        {
          "output_type": "stream",
          "name": "stdout",
          "text": [
            "A person has 2 legs\n",
            "A cat has 4 legs\n",
            "A spider has 8 legs\n"
          ]
        }
      ],
      "metadata": {
        "id": "-Sq0_A4tOJR8",
        "outputId": "89b33ce5-56dc-4118-c145-670daa535626",
        "colab": {
          "base_uri": "https://localhost:8080/"
        }
      },
      "execution_count": 34
    },
    {
      "cell_type": "markdown",
      "source": [
        "If you want access to keys and their corresponding values, use the iteritems method:"
      ],
      "metadata": {
        "id": "A78dEdxkOJR9"
      }
    },
    {
      "cell_type": "code",
      "source": [
        "d = {'person': 2, 'cat': 4, 'spider': 8}\n",
        "for animal, legs in d.items():\n",
        "    print('A %s has %d legs' % (animal, legs))"
      ],
      "outputs": [
        {
          "output_type": "stream",
          "name": "stdout",
          "text": [
            "A person has 2 legs\n",
            "A cat has 4 legs\n",
            "A spider has 8 legs\n"
          ]
        }
      ],
      "metadata": {
        "id": "aI7i4KPOOJR9",
        "outputId": "1b68606c-86f3-41a5-8508-f1849cd80845",
        "colab": {
          "base_uri": "https://localhost:8080/"
        }
      },
      "execution_count": 35
    },
    {
      "cell_type": "markdown",
      "source": [
        "Dictionary comprehensions: These are similar to list comprehensions, but allow you to easily construct dictionaries. For example:"
      ],
      "metadata": {
        "id": "Ab3baf4AOJR9"
      }
    },
    {
      "cell_type": "code",
      "source": [
        "nums = [0, 1, 2, 3, 4]\n",
        "even_num_to_square = {x: x ** 2 for x in nums if x % 2 == 0}\n",
        "print(even_num_to_square)"
      ],
      "outputs": [
        {
          "output_type": "stream",
          "name": "stdout",
          "text": [
            "{0: 0, 2: 4, 4: 16}\n"
          ]
        }
      ],
      "metadata": {
        "id": "xsT0mQa8OJR9",
        "outputId": "153ea224-f9d5-4381-e6ae-568d18abbe8c",
        "colab": {
          "base_uri": "https://localhost:8080/"
        }
      },
      "execution_count": 36
    },
    {
      "cell_type": "markdown",
      "source": [
        "####Sets"
      ],
      "metadata": {
        "id": "Aj35n9O1OJR9"
      }
    },
    {
      "cell_type": "markdown",
      "source": [
        "A set is an unordered collection of distinct elements. As a simple example, consider the following:"
      ],
      "metadata": {
        "id": "G8IrLTXbOJR9"
      }
    },
    {
      "cell_type": "code",
      "source": [
        "animals = {'cat', 'dog'}\n",
        "print('cat' in animals)   # Check if an element is in a set; prints \"True\"\n",
        "print('fish' in animals)  # prints \"False\"\n"
      ],
      "outputs": [
        {
          "output_type": "stream",
          "name": "stdout",
          "text": [
            "True\n",
            "False\n"
          ]
        }
      ],
      "metadata": {
        "id": "o8VEDBh3OJR9",
        "outputId": "cafdd705-5098-476b-9e32-3f4bfdf03615",
        "colab": {
          "base_uri": "https://localhost:8080/"
        }
      },
      "execution_count": 37
    },
    {
      "cell_type": "code",
      "source": [
        "animals.add('fish')      # Add an element to a set\n",
        "print('fish' in animals)\n",
        "print(len(animals))       # Number of elements in a set;"
      ],
      "outputs": [
        {
          "output_type": "stream",
          "name": "stdout",
          "text": [
            "True\n",
            "3\n"
          ]
        }
      ],
      "metadata": {
        "id": "yhcry5iiOJR9",
        "outputId": "fa4444e0-6b1b-47b9-f2b1-1b7592a71234",
        "colab": {
          "base_uri": "https://localhost:8080/"
        }
      },
      "execution_count": 38
    },
    {
      "cell_type": "code",
      "source": [
        "animals.add('cat')       # Adding an element that is already in the set does nothing\n",
        "print(len(animals))\n",
        "animals.remove('cat')    # Remove an element from a set\n",
        "print(len(animals))"
      ],
      "outputs": [
        {
          "output_type": "stream",
          "name": "stdout",
          "text": [
            "3\n",
            "2\n"
          ]
        }
      ],
      "metadata": {
        "id": "zCNvpZrmOJR9",
        "outputId": "f5ac7692-7659-4c48-cf72-b028e0c59ee0",
        "colab": {
          "base_uri": "https://localhost:8080/"
        }
      },
      "execution_count": 39
    },
    {
      "cell_type": "markdown",
      "source": [
        "_Loops_: Iterating over a set has the same syntax as iterating over a list; however since sets are unordered, you cannot make assumptions about the order in which you visit the elements of the set:"
      ],
      "metadata": {
        "id": "hP8pUKO1OJR9"
      }
    },
    {
      "cell_type": "code",
      "source": [
        "animals = {'cat', 'dog', 'fish'}\n",
        "for idx, animal in enumerate(animals):\n",
        "    print('#%d: %s' % (idx + 1, animal))\n",
        "# Prints \"#1: fish\", \"#2: dog\", \"#3: cat\""
      ],
      "outputs": [
        {
          "output_type": "stream",
          "name": "stdout",
          "text": [
            "#1: fish\n",
            "#2: cat\n",
            "#3: dog\n"
          ]
        }
      ],
      "metadata": {
        "id": "JFNEKM8COJR9",
        "outputId": "95320f21-2aed-40bb-9a6c-935e46d8d4f2",
        "colab": {
          "base_uri": "https://localhost:8080/"
        }
      },
      "execution_count": 40
    },
    {
      "cell_type": "markdown",
      "source": [
        "Set comprehensions: Like lists and dictionaries, we can easily construct sets using set comprehensions:"
      ],
      "metadata": {
        "id": "zhkZ8QEHOJR9"
      }
    },
    {
      "cell_type": "code",
      "source": [
        "from math import sqrt\n",
        "print({int(sqrt(x)) for x in range(30)})"
      ],
      "outputs": [
        {
          "output_type": "stream",
          "name": "stdout",
          "text": [
            "{0, 1, 2, 3, 4, 5}\n"
          ]
        }
      ],
      "metadata": {
        "id": "hIl5XX5lOJR9",
        "outputId": "9bcab30c-7e31-4a98-b50a-c80941510a64",
        "colab": {
          "base_uri": "https://localhost:8080/"
        }
      },
      "execution_count": 41
    },
    {
      "cell_type": "markdown",
      "source": [
        "####Tuples"
      ],
      "metadata": {
        "id": "97VdlIblOJR9"
      }
    },
    {
      "cell_type": "markdown",
      "source": [
        "A tuple is an (immutable) ordered list of values. A tuple is in many ways similar to a list; one of the most important differences is that tuples can be used as keys in dictionaries and as elements of sets, while lists cannot. Here is a trivial example:"
      ],
      "metadata": {
        "id": "NVKgu-gnOJR9"
      }
    },
    {
      "cell_type": "code",
      "source": [
        "d = {(x, x + 1): x for x in range(10)}  # Create a dictionary with tuple keys\n",
        "t = (5, 6)       # Create a tuple\n",
        "print(type(t))\n",
        "print(d[t])\n",
        "print(d[(1, 2)])"
      ],
      "outputs": [
        {
          "output_type": "stream",
          "name": "stdout",
          "text": [
            "<class 'tuple'>\n",
            "5\n",
            "1\n"
          ]
        }
      ],
      "metadata": {
        "id": "KJkNnzvaOJR9",
        "outputId": "cda9167f-6aaa-457b-f5f5-819ff0307e11",
        "colab": {
          "base_uri": "https://localhost:8080/"
        }
      },
      "execution_count": 42
    },
    {
      "cell_type": "code",
      "source": [
        "t[0] = 1"
      ],
      "outputs": [
        {
          "output_type": "error",
          "ename": "TypeError",
          "evalue": "ignored",
          "traceback": [
            "\u001b[0;31m---------------------------------------------------------------------------\u001b[0m",
            "\u001b[0;31mTypeError\u001b[0m                                 Traceback (most recent call last)",
            "\u001b[0;32m<ipython-input-43-c8aeb8cd20ae>\u001b[0m in \u001b[0;36m<cell line: 1>\u001b[0;34m()\u001b[0m\n\u001b[0;32m----> 1\u001b[0;31m \u001b[0mt\u001b[0m\u001b[0;34m[\u001b[0m\u001b[0;36m0\u001b[0m\u001b[0;34m]\u001b[0m \u001b[0;34m=\u001b[0m \u001b[0;36m1\u001b[0m\u001b[0;34m\u001b[0m\u001b[0;34m\u001b[0m\u001b[0m\n\u001b[0m",
            "\u001b[0;31mTypeError\u001b[0m: 'tuple' object does not support item assignment"
          ]
        }
      ],
      "metadata": {
        "id": "PqTRnnpyOJR9",
        "outputId": "6b17dcdc-4da5-4932-d0de-51282c381ba7",
        "colab": {
          "base_uri": "https://localhost:8080/",
          "height": 184
        }
      },
      "execution_count": 43
    },
    {
      "cell_type": "markdown",
      "source": [
        "###Functions"
      ],
      "metadata": {
        "id": "OX4cziNeOJR-"
      }
    },
    {
      "cell_type": "markdown",
      "source": [
        "Python functions are defined using the `def` keyword. For example:"
      ],
      "metadata": {
        "id": "WqwvBJ5gOJR-"
      }
    },
    {
      "cell_type": "code",
      "source": [
        "def sign(x):\n",
        "    if x > 0:\n",
        "        return 'positive'\n",
        "    elif x < 0:\n",
        "        return 'negative'\n",
        "    else:\n",
        "        return 'zero'\n",
        "\n",
        "for x in [-1, 0, 1]:\n",
        "    print(sign(x))"
      ],
      "outputs": [
        {
          "output_type": "stream",
          "name": "stdout",
          "text": [
            "negative\n",
            "zero\n",
            "positive\n"
          ]
        }
      ],
      "metadata": {
        "id": "o-NyvcRGOJR-",
        "outputId": "7ec27432-b22f-405a-ebca-700f477accd6",
        "colab": {
          "base_uri": "https://localhost:8080/"
        }
      },
      "execution_count": 44
    },
    {
      "cell_type": "markdown",
      "source": [
        "We will often define functions to take optional keyword arguments, like this:"
      ],
      "metadata": {
        "id": "KDopFutTOJR-"
      }
    },
    {
      "cell_type": "code",
      "source": [
        "def hello(name, loud=False):\n",
        "    if loud:\n",
        "        print('HELLO, %s' % name.upper())\n",
        "    else:\n",
        "        print('Hello, %s!' % name)\n",
        "\n",
        "hello('Bob')\n",
        "hello('Fred', loud=True)"
      ],
      "outputs": [
        {
          "output_type": "stream",
          "name": "stdout",
          "text": [
            "Hello, Bob!\n",
            "HELLO, FRED\n"
          ]
        }
      ],
      "metadata": {
        "id": "wuAQ5JgQOJR-",
        "outputId": "76267a3c-5672-4e4a-b793-fb3190436dbb",
        "colab": {
          "base_uri": "https://localhost:8080/"
        }
      },
      "execution_count": 45
    },
    {
      "cell_type": "markdown",
      "source": [
        "###Classes"
      ],
      "metadata": {
        "id": "QIyEECO0OJR-"
      }
    },
    {
      "cell_type": "markdown",
      "source": [
        "The syntax for defining classes in Python is straightforward:"
      ],
      "metadata": {
        "id": "3tjfrq4GOJR-"
      }
    },
    {
      "cell_type": "code",
      "source": [
        "class Greeter:\n",
        "\n",
        "    # Constructor\n",
        "    def __init__(self, name):\n",
        "        self.name = name  # Create an instance variable\n",
        "\n",
        "    # Instance method\n",
        "    def greet(self, loud=False):\n",
        "        if loud:\n",
        "            print('HELLO, %s!' % self.name.upper())\n",
        "        else:\n",
        "            print('Hello, %s' % self.name)\n",
        "\n",
        "g = Greeter('Fred')  # Construct an instance of the Greeter class\n",
        "g.greet()            # Call an instance method; prints \"Hello, Fred\""
      ],
      "outputs": [
        {
          "output_type": "stream",
          "name": "stdout",
          "text": [
            "Hello, Fred\n"
          ]
        }
      ],
      "metadata": {
        "id": "dJWGfF_WOJR-",
        "outputId": "439e3c04-a272-4b09-d58b-8d2bb031c193",
        "colab": {
          "base_uri": "https://localhost:8080/"
        }
      },
      "execution_count": 48
    },
    {
      "cell_type": "code",
      "source": [
        "g2 = Greeter('Hyun-Soo')  # Construct an instance of the Greeter class\n",
        "g2.greet(loud=True)"
      ],
      "metadata": {
        "colab": {
          "base_uri": "https://localhost:8080/"
        },
        "id": "SvTeK1v5N5h0",
        "outputId": "f41ea578-cd9b-41a6-ee1d-826a3f78c530"
      },
      "execution_count": 50,
      "outputs": [
        {
          "output_type": "stream",
          "name": "stdout",
          "text": [
            "HELLO, HYUN-SOO!\n"
          ]
        }
      ]
    },
    {
      "cell_type": "markdown",
      "source": [
        "##Numpy"
      ],
      "metadata": {
        "id": "wlnYuO5JOJR-"
      }
    },
    {
      "cell_type": "markdown",
      "source": [
        "Numpy is the core library for scientific computing in Python. It provides a high-performance multidimensional array object, and tools for working with these arrays. If you are already familiar with MATLAB, you might find this [tutorial](http://wiki.scipy.org/NumPy_for_Matlab_Users) useful to get started with Numpy."
      ],
      "metadata": {
        "id": "fw1bhhd0OJR-"
      }
    },
    {
      "cell_type": "markdown",
      "source": [
        "To use Numpy, we first need to import the `numpy` package:"
      ],
      "metadata": {
        "id": "iHAlUvHKOJR-"
      }
    },
    {
      "cell_type": "code",
      "source": [
        "import numpy as np"
      ],
      "outputs": [],
      "metadata": {
        "id": "ljYaYfCtOJR-"
      },
      "execution_count": 51
    },
    {
      "cell_type": "markdown",
      "source": [
        "###Arrays"
      ],
      "metadata": {
        "id": "68Solv8LOJR-"
      }
    },
    {
      "cell_type": "markdown",
      "source": [
        "A numpy array is a grid of values, all of the same type, and is indexed by a tuple of nonnegative integers. The number of dimensions is the rank of the array; the shape of an array is a tuple of integers giving the size of the array along each dimension."
      ],
      "metadata": {
        "id": "4086QXANOJR-"
      }
    },
    {
      "cell_type": "markdown",
      "source": [
        "We can initialize numpy arrays from nested Python lists, and access elements using square brackets:"
      ],
      "metadata": {
        "id": "y-AzP8hSOJR-"
      }
    },
    {
      "cell_type": "code",
      "source": [
        "a = np.array([1, 2, 3])  # Create a rank 1 array\n",
        "print(type(a), a.shape, a[0], a[1], a[2])\n",
        "a[0] = 5                 # Change an element of the array\n",
        "print(a)"
      ],
      "outputs": [
        {
          "output_type": "stream",
          "name": "stdout",
          "text": [
            "<class 'numpy.ndarray'> (3,) 1 2 3\n",
            "[5 2 3]\n"
          ]
        }
      ],
      "metadata": {
        "id": "GJ-RNJkjOJR-",
        "outputId": "9b69f7a8-9ee5-410e-8382-ac7ffe02e17b",
        "colab": {
          "base_uri": "https://localhost:8080/"
        }
      },
      "execution_count": 52
    },
    {
      "cell_type": "code",
      "source": [
        "b = np.array([[1,2,3],[4,5,6]])   # Create a rank 2 array\n",
        "print(b)"
      ],
      "outputs": [
        {
          "output_type": "stream",
          "name": "stdout",
          "text": [
            "[[1 2 3]\n",
            " [4 5 6]]\n"
          ]
        }
      ],
      "metadata": {
        "id": "8vhEgUCeOJR-",
        "outputId": "80c76c39-9966-446f-fb5d-6999c88e1cb2",
        "colab": {
          "base_uri": "https://localhost:8080/"
        }
      },
      "execution_count": 53
    },
    {
      "cell_type": "code",
      "source": [
        "print(b.shape)\n",
        "print(b[0, 0], b[0, 1], b[1, 0])"
      ],
      "outputs": [
        {
          "output_type": "stream",
          "name": "stdout",
          "text": [
            "(2, 3)\n",
            "1 2 4\n"
          ]
        }
      ],
      "metadata": {
        "id": "zXUdZeO1OJR-",
        "outputId": "ed072b0d-b7f6-4284-b316-a79f7451af7b",
        "colab": {
          "base_uri": "https://localhost:8080/"
        }
      },
      "execution_count": 54
    },
    {
      "cell_type": "markdown",
      "source": [
        "Numpy also provides many functions to create arrays:"
      ],
      "metadata": {
        "id": "DLB_ayevOJR_"
      }
    },
    {
      "cell_type": "code",
      "source": [
        "a = np.zeros((2,2))  # Create an array of all zeros\n",
        "print(a)"
      ],
      "outputs": [
        {
          "output_type": "stream",
          "name": "stdout",
          "text": [
            "[[0. 0.]\n",
            " [0. 0.]]\n"
          ]
        }
      ],
      "metadata": {
        "id": "30XC7DmUOJR_",
        "outputId": "1b29e957-e563-4d1f-90d2-2298d737fad8",
        "colab": {
          "base_uri": "https://localhost:8080/"
        }
      },
      "execution_count": 55
    },
    {
      "cell_type": "code",
      "source": [
        "b = np.ones((1,2))   # Create an array of all ones\n",
        "print(b)"
      ],
      "outputs": [
        {
          "output_type": "stream",
          "name": "stdout",
          "text": [
            "[[1. 1.]]\n"
          ]
        }
      ],
      "metadata": {
        "id": "1tQL4Vo1OJR_",
        "outputId": "c79667d2-14f0-43d6-89d0-c88c17b6506b",
        "colab": {
          "base_uri": "https://localhost:8080/"
        }
      },
      "execution_count": 56
    },
    {
      "cell_type": "code",
      "source": [
        "c = np.full((2,2), 7) # Create a constant array\n",
        "print(c)"
      ],
      "outputs": [
        {
          "output_type": "stream",
          "name": "stdout",
          "text": [
            "[[7 7]\n",
            " [7 7]]\n"
          ]
        }
      ],
      "metadata": {
        "id": "UvCet8jiOJR_",
        "outputId": "0d7c019e-8bf8-4138-e0e4-c7056f06c11f",
        "colab": {
          "base_uri": "https://localhost:8080/"
        }
      },
      "execution_count": 57
    },
    {
      "cell_type": "code",
      "source": [
        "d = np.eye(2)        # Create a 2x2 identity matrix\n",
        "print(d)"
      ],
      "outputs": [
        {
          "output_type": "stream",
          "name": "stdout",
          "text": [
            "[[1. 0.]\n",
            " [0. 1.]]\n"
          ]
        }
      ],
      "metadata": {
        "id": "cd_6oNZFOJR_",
        "outputId": "03d2b0e9-da4d-431b-ff48-083e38c57268",
        "colab": {
          "base_uri": "https://localhost:8080/"
        }
      },
      "execution_count": 58
    },
    {
      "cell_type": "code",
      "source": [
        "e = np.random.random((2,2)) # Create an array filled with random values\n",
        "print(e)"
      ],
      "outputs": [
        {
          "output_type": "stream",
          "name": "stdout",
          "text": [
            "[[0.0589865  0.14490998]\n",
            " [0.03449235 0.08370858]]\n"
          ]
        }
      ],
      "metadata": {
        "id": "B9kYzM5TOJR_",
        "outputId": "5a0ed3d7-8b0d-4709-fd60-25643004e321",
        "colab": {
          "base_uri": "https://localhost:8080/"
        }
      },
      "execution_count": 59
    },
    {
      "cell_type": "markdown",
      "source": [
        "###Array indexing"
      ],
      "metadata": {
        "id": "epyH8vngOJR_"
      }
    },
    {
      "cell_type": "markdown",
      "source": [
        "Numpy offers several ways to index into arrays."
      ],
      "metadata": {
        "id": "OVUf9l22OJR_"
      }
    },
    {
      "cell_type": "markdown",
      "source": [
        "Slicing: Similar to Python lists, numpy arrays can be sliced. Since arrays may be multidimensional, you must specify a slice for each dimension of the array:"
      ],
      "metadata": {
        "id": "Yj2nZiT4OJR_"
      }
    },
    {
      "cell_type": "code",
      "source": [
        "import numpy as np\n",
        "\n",
        "# Create the following rank 2 array with shape (3, 4)\n",
        "# [[ 1  2  3  4]\n",
        "#  [ 5  6  7  8]\n",
        "#  [ 9 10 11 12]]\n",
        "a = np.array([[1,2,3,4], [5,6,7,8], [9,10,11,12]])\n",
        "\n",
        "# Use slicing to pull out the subarray consisting of the first 2 rows\n",
        "# and columns 1 and 2; b is the following array of shape (2, 2):\n",
        "# [[2 3]\n",
        "#  [6 7]]\n",
        "b = a[0:2, 1:3]\n",
        "print(b)"
      ],
      "outputs": [
        {
          "output_type": "stream",
          "name": "stdout",
          "text": [
            "[[2 3]\n",
            " [6 7]]\n"
          ]
        }
      ],
      "metadata": {
        "id": "cch3T8qjOJR_",
        "outputId": "10ec043b-2a66-4784-faca-494c73683f00",
        "colab": {
          "base_uri": "https://localhost:8080/"
        }
      },
      "execution_count": 60
    },
    {
      "cell_type": "markdown",
      "source": [
        "A slice of an array is a view into the same data, so modifying it will modify the original array."
      ],
      "metadata": {
        "id": "xGaORP2ZOJR_"
      }
    },
    {
      "cell_type": "code",
      "source": [
        "print(a[0, 1])\n",
        "b[0, 0] = 77    # b[0, 0] is the same piece of data as a[0, 1]\n",
        "print(a[0, 1])"
      ],
      "outputs": [
        {
          "output_type": "stream",
          "name": "stdout",
          "text": [
            "2\n",
            "77\n"
          ]
        }
      ],
      "metadata": {
        "id": "4_QM9EcMOJR_",
        "outputId": "89f910bb-be3e-41aa-b3d5-fa5079537f8e",
        "colab": {
          "base_uri": "https://localhost:8080/"
        }
      },
      "execution_count": 61
    },
    {
      "cell_type": "markdown",
      "source": [
        "You can also mix integer indexing with slice indexing. However, doing so will yield an array of lower rank than the original array. Note that this is quite different from the way that MATLAB handles array slicing:"
      ],
      "metadata": {
        "id": "uOiio6niOJR_"
      }
    },
    {
      "cell_type": "code",
      "source": [
        "# Create the following rank 2 array with shape (3, 4)\n",
        "a = np.array([[1,2,3,4], [5,6,7,8], [9,10,11,12]])\n",
        "print(a)"
      ],
      "outputs": [
        {
          "output_type": "stream",
          "name": "stdout",
          "text": [
            "[[ 1  2  3  4]\n",
            " [ 5  6  7  8]\n",
            " [ 9 10 11 12]]\n"
          ]
        }
      ],
      "metadata": {
        "id": "WzxVTiUqOJR_",
        "outputId": "2b8bfee2-28b7-472f-fa7b-653538c0a276",
        "colab": {
          "base_uri": "https://localhost:8080/"
        }
      },
      "execution_count": 62
    },
    {
      "cell_type": "markdown",
      "source": [
        "Two ways of accessing the data in the middle row of the array.\n",
        "Mixing integer indexing with slices yields an array of lower rank,\n",
        "while using only slices yields an array of the same rank as the\n",
        "original array:"
      ],
      "metadata": {
        "id": "Hv8BV4pOOJR_"
      }
    },
    {
      "cell_type": "code",
      "source": [
        "row_r1 = a[1, :]    # Rank 1 view of the second row of a\n",
        "row_r2 = a[1:2, :]  # Rank 2 view of the second row of a\n",
        "row_r3 = a[[1], :]  # Rank 2 view of the second row of a\n",
        "print(row_r1, row_r1.shape)\n",
        "print(row_r2, row_r2.shape)\n",
        "print(row_r3, row_r3.shape)"
      ],
      "outputs": [
        {
          "output_type": "stream",
          "name": "stdout",
          "text": [
            "[5 6 7 8] (4,)\n",
            "[[5 6 7 8]] (1, 4)\n",
            "[[5 6 7 8]] (1, 4)\n"
          ]
        }
      ],
      "metadata": {
        "id": "XKgwAIqOOJR_",
        "outputId": "57c51e5e-a037-4014-bb44-a1c758ceb948",
        "colab": {
          "base_uri": "https://localhost:8080/"
        }
      },
      "execution_count": 63
    },
    {
      "cell_type": "code",
      "source": [
        "# We can make the same distinction when accessing columns of an array:\n",
        "col_r1 = a[:, 1]\n",
        "col_r2 = a[:, 1:2]\n",
        "print(col_r1, col_r1.shape)\n",
        "print()\n",
        "print(col_r2, col_r2.shape)"
      ],
      "outputs": [
        {
          "output_type": "stream",
          "name": "stdout",
          "text": [
            "[ 2  6 10] (3,)\n",
            "\n",
            "[[ 2]\n",
            " [ 6]\n",
            " [10]] (3, 1)\n"
          ]
        }
      ],
      "metadata": {
        "id": "5kCz_WlSOJR_",
        "outputId": "12c59172-6560-4b2e-b3e7-729fd375f76a",
        "colab": {
          "base_uri": "https://localhost:8080/"
        }
      },
      "execution_count": 64
    },
    {
      "cell_type": "markdown",
      "source": [
        "Integer array indexing: When you index into numpy arrays using slicing, the resulting array view will always be a subarray of the original array. In contrast, integer array indexing allows you to construct arbitrary arrays using the data from another array. Here is an example:"
      ],
      "metadata": {
        "id": "67urfmnkOJR_"
      }
    },
    {
      "cell_type": "code",
      "source": [
        "a = np.array([[1,2], [3, 4], [5, 6]])\n",
        "\n",
        "# An example of integer array indexing.\n",
        "# The returned array will have shape (3,) and\n",
        "print a[[0, 1, 2], [0, 1, 0]]\n",
        "\n",
        "# The above example of integer array indexing is equivalent to this:\n",
        "print np.array([a[0, 0], a[1, 1], a[2, 0]])"
      ],
      "outputs": [
        {
          "output_type": "stream",
          "text": [
            "[1 4 5]\n",
            "[1 4 5]\n"
          ],
          "name": "stdout"
        }
      ],
      "metadata": {
        "id": "u2luBLzcOJSA",
        "outputId": "18b361b1-0bec-4861-a0ad-f610ce9d1214"
      },
      "execution_count": null
    },
    {
      "cell_type": "code",
      "source": [
        "# When using integer array indexing, you can reuse the same\n",
        "# element from the source array:\n",
        "print a[[0, 0], [1, 1]]\n",
        "\n",
        "# Equivalent to the previous integer array indexing example\n",
        "print np.array([a[0, 1], a[0, 1]])"
      ],
      "outputs": [
        {
          "output_type": "stream",
          "text": [
            "[2 2]\n",
            "[2 2]\n"
          ],
          "name": "stdout"
        }
      ],
      "metadata": {
        "id": "LtBR6KjSOJSA",
        "outputId": "f90bf5c3-726f-47dd-d8c0-928e876ea40b"
      },
      "execution_count": null
    },
    {
      "cell_type": "markdown",
      "source": [
        "One useful trick with integer array indexing is selecting or mutating one element from each row of a matrix:"
      ],
      "metadata": {
        "id": "PMynNXdJOJSA"
      }
    },
    {
      "cell_type": "code",
      "source": [
        "# Create a new array from which we will select elements\n",
        "a = np.array([[1,2,3], [4,5,6], [7,8,9], [10, 11, 12]])\n",
        "print(a)"
      ],
      "outputs": [
        {
          "output_type": "stream",
          "name": "stdout",
          "text": [
            "[[ 1  2  3]\n",
            " [ 4  5  6]\n",
            " [ 7  8  9]\n",
            " [10 11 12]]\n"
          ]
        }
      ],
      "metadata": {
        "id": "xB7gdpElOJSA",
        "outputId": "827d66de-c8c5-4fb2-d87c-fd2b5579ed93",
        "colab": {
          "base_uri": "https://localhost:8080/"
        }
      },
      "execution_count": 67
    },
    {
      "cell_type": "code",
      "source": [
        "# Create an array of indices\n",
        "b = np.array([0, 2, 0, 1])\n",
        "\n",
        "# Select one element from each row of a using the indices in b\n",
        "print(a[np.arange(4), b])  # Prints \"[ 1  6  7 11]\""
      ],
      "outputs": [
        {
          "output_type": "stream",
          "name": "stdout",
          "text": [
            "[ 1  6  7 11]\n"
          ]
        }
      ],
      "metadata": {
        "id": "YcsuxXCPOJSA",
        "outputId": "13e5cfde-ce93-4e33-8773-9ea9b6fb5ade",
        "colab": {
          "base_uri": "https://localhost:8080/"
        }
      },
      "execution_count": 68
    },
    {
      "cell_type": "code",
      "source": [
        "# Mutate one element from each row of a using the indices in b\n",
        "a[np.arange(4), b] += 10\n",
        "print(a)"
      ],
      "outputs": [
        {
          "output_type": "stream",
          "name": "stdout",
          "text": [
            "[[11  2  3]\n",
            " [ 4  5 16]\n",
            " [17  8  9]\n",
            " [10 21 12]]\n"
          ]
        }
      ],
      "metadata": {
        "id": "N1-WRT_POJSA",
        "outputId": "acf0c90c-bb30-4835-cc08-6396b0d20cd1",
        "colab": {
          "base_uri": "https://localhost:8080/"
        }
      },
      "execution_count": 69
    },
    {
      "cell_type": "markdown",
      "source": [
        "Boolean array indexing: Boolean array indexing lets you pick out arbitrary elements of an array. Frequently this type of indexing is used to select the elements of an array that satisfy some condition. Here is an example:"
      ],
      "metadata": {
        "id": "ZxXkIlOGOJSA"
      }
    },
    {
      "cell_type": "code",
      "source": [
        "import numpy as np\n",
        "\n",
        "a = np.array([[1,2], [3, 4], [5, 6]])\n",
        "\n",
        "bool_idx = (a > 2)  # Find the elements of a that are bigger than 2;\n",
        "                    # this returns a numpy array of Booleans of the same\n",
        "                    # shape as a, where each slot of bool_idx tells\n",
        "                    # whether that element of a is > 2.\n",
        "\n",
        "print(bool_idx)"
      ],
      "outputs": [
        {
          "output_type": "stream",
          "name": "stdout",
          "text": [
            "[[False False]\n",
            " [ True  True]\n",
            " [ True  True]]\n"
          ]
        }
      ],
      "metadata": {
        "id": "kxocfkcZOJSA",
        "outputId": "5251c18b-605e-49d9-80f7-28b4def3fa73",
        "colab": {
          "base_uri": "https://localhost:8080/"
        }
      },
      "execution_count": 70
    },
    {
      "cell_type": "code",
      "source": [
        "# We use boolean array indexing to construct a rank 1 array\n",
        "# consisting of the elements of a corresponding to the True values\n",
        "# of bool_idx\n",
        "print(a[bool_idx])\n",
        "\n",
        "# We can do all of the above in a single concise statement:\n",
        "print(a[a > 2])"
      ],
      "outputs": [
        {
          "output_type": "stream",
          "name": "stdout",
          "text": [
            "[3 4 5 6]\n",
            "[3 4 5 6]\n"
          ]
        }
      ],
      "metadata": {
        "id": "-0mtB6QXOJSA",
        "outputId": "a3c37c22-a9e8-422a-8720-25436a3712cd",
        "colab": {
          "base_uri": "https://localhost:8080/"
        }
      },
      "execution_count": 71
    },
    {
      "cell_type": "markdown",
      "source": [
        "For brevity we have left out a lot of details about numpy array indexing; if you want to know more you should read the documentation."
      ],
      "metadata": {
        "id": "HJq_8HWZOJSA"
      }
    },
    {
      "cell_type": "markdown",
      "source": [
        "###Datatypes"
      ],
      "metadata": {
        "id": "mAybLc_SOJSA"
      }
    },
    {
      "cell_type": "markdown",
      "source": [
        "Every numpy array is a grid of elements of the same type. Numpy provides a large set of numeric datatypes that you can use to construct arrays. Numpy tries to guess a datatype when you create an array, but functions that construct arrays usually also include an optional argument to explicitly specify the datatype. Here is an example:"
      ],
      "metadata": {
        "id": "cPpzbStQOJSA"
      }
    },
    {
      "cell_type": "code",
      "source": [
        "x = np.array([1, 2])  # Let numpy choose the datatype\n",
        "y = np.array([1.0, 2.0])  # Let numpy choose the datatype\n",
        "z = np.array([1, 2], dtype=np.int64)  # Force a particular datatype\n",
        "\n",
        "print(x.dtype, y.dtype, z.dtype)"
      ],
      "outputs": [
        {
          "output_type": "stream",
          "name": "stdout",
          "text": [
            "int64 float64 int64\n"
          ]
        }
      ],
      "metadata": {
        "id": "fhuUF4vROJSA",
        "outputId": "818f4b52-55ef-4cda-b4c8-0fb208fb1b9a",
        "colab": {
          "base_uri": "https://localhost:8080/"
        }
      },
      "execution_count": 72
    },
    {
      "cell_type": "markdown",
      "source": [
        "You can read all about numpy datatypes in the [documentation](http://docs.scipy.org/doc/numpy/reference/arrays.dtypes.html)."
      ],
      "metadata": {
        "id": "-zhtkhuYOJSA"
      }
    },
    {
      "cell_type": "markdown",
      "source": [
        "###Array math"
      ],
      "metadata": {
        "id": "gtH9mlfsOJSA"
      }
    },
    {
      "cell_type": "markdown",
      "source": [
        "Basic mathematical functions operate elementwise on arrays, and are available both as operator overloads and as functions in the numpy module:"
      ],
      "metadata": {
        "id": "kmQSJqCEOJSA"
      }
    },
    {
      "cell_type": "code",
      "source": [
        "x = np.array([[1,2],[3,4]], dtype=np.float64)\n",
        "y = np.array([[5,6],[7,8]], dtype=np.float64)\n",
        "\n",
        "# Elementwise sum; both produce the array\n",
        "print(x + y)\n",
        "print(np.add(x, y))"
      ],
      "outputs": [
        {
          "output_type": "stream",
          "name": "stdout",
          "text": [
            "[[ 6.  8.]\n",
            " [10. 12.]]\n",
            "[[ 6.  8.]\n",
            " [10. 12.]]\n"
          ]
        }
      ],
      "metadata": {
        "id": "Cnv23fjiOJSA",
        "outputId": "baf2569c-0d6f-4549-b4a8-aa8535cb6fdd",
        "colab": {
          "base_uri": "https://localhost:8080/"
        }
      },
      "execution_count": 73
    },
    {
      "cell_type": "code",
      "source": [
        "# Elementwise difference; both produce the array\n",
        "print(x - y)\n",
        "print(np.subtract(x, y))"
      ],
      "outputs": [
        {
          "output_type": "stream",
          "name": "stdout",
          "text": [
            "[[-4. -4.]\n",
            " [-4. -4.]]\n",
            "[[-4. -4.]\n",
            " [-4. -4.]]\n"
          ]
        }
      ],
      "metadata": {
        "id": "t7Vl3bmhOJSA",
        "outputId": "b158e567-d84f-4c09-bfc2-9304e3947a6b",
        "colab": {
          "base_uri": "https://localhost:8080/"
        }
      },
      "execution_count": 74
    },
    {
      "cell_type": "code",
      "source": [
        "# Elementwise product; both produce the array\n",
        "print(x * y)\n",
        "print(np.multiply(x, y))"
      ],
      "outputs": [
        {
          "output_type": "stream",
          "name": "stdout",
          "text": [
            "[[ 5. 12.]\n",
            " [21. 32.]]\n",
            "[[ 5. 12.]\n",
            " [21. 32.]]\n"
          ]
        }
      ],
      "metadata": {
        "id": "wtG-hZw9OJSB",
        "outputId": "756e8349-b495-4c99-bd13-1763f728ccfe",
        "colab": {
          "base_uri": "https://localhost:8080/"
        }
      },
      "execution_count": 75
    },
    {
      "cell_type": "code",
      "source": [
        "# Elementwise division; both produce the array\n",
        "# [[ 0.2         0.33333333]\n",
        "#  [ 0.42857143  0.5       ]]\n",
        "print(x / y)\n",
        "print(np.divide(x, y))"
      ],
      "outputs": [
        {
          "output_type": "stream",
          "name": "stdout",
          "text": [
            "[[0.2        0.33333333]\n",
            " [0.42857143 0.5       ]]\n",
            "[[0.2        0.33333333]\n",
            " [0.42857143 0.5       ]]\n"
          ]
        }
      ],
      "metadata": {
        "id": "JaIcphRXOJSB",
        "outputId": "50c5d95c-84ba-4183-b2bd-3b5c6f760b75",
        "colab": {
          "base_uri": "https://localhost:8080/"
        }
      },
      "execution_count": 76
    },
    {
      "cell_type": "code",
      "source": [
        "# Elementwise square root; produces the array\n",
        "# [[ 1.          1.41421356]\n",
        "#  [ 1.73205081  2.        ]]\n",
        "print(np.sqrt(x))"
      ],
      "outputs": [
        {
          "output_type": "stream",
          "name": "stdout",
          "text": [
            "[[1.         1.41421356]\n",
            " [1.73205081 2.        ]]\n"
          ]
        }
      ],
      "metadata": {
        "id": "HU3StW5uOJSB",
        "outputId": "4c029f92-6328-4664-e9d1-6a90d09b42ce",
        "colab": {
          "base_uri": "https://localhost:8080/"
        }
      },
      "execution_count": 77
    },
    {
      "cell_type": "markdown",
      "source": [
        "Note that unlike MATLAB, `*` is elementwise multiplication, not matrix multiplication. We instead use the dot function to compute inner products of vectors, to multiply a vector by a matrix, and to multiply matrices. dot is available both as a function in the numpy module and as an instance method of array objects:"
      ],
      "metadata": {
        "id": "DgimLqX5OJSB"
      }
    },
    {
      "cell_type": "code",
      "source": [
        "x = np.array([[1,2],[3,4]])\n",
        "y = np.array([[5,6],[7,8]])\n",
        "\n",
        "v = np.array([9,10])\n",
        "w = np.array([11, 12])\n",
        "\n",
        "# Inner product of vectors; both produce 219\n",
        "print(v.dot(w))\n",
        "print(np.dot(v, w))"
      ],
      "outputs": [
        {
          "output_type": "stream",
          "name": "stdout",
          "text": [
            "219\n",
            "219\n"
          ]
        }
      ],
      "metadata": {
        "id": "xuJ7knBvOJSB",
        "outputId": "5681d9d5-c421-464a-d682-efbee31cf376",
        "colab": {
          "base_uri": "https://localhost:8080/"
        }
      },
      "execution_count": 78
    },
    {
      "cell_type": "code",
      "source": [
        "# Matrix / vector product; both produce the rank 1 array [29 67]\n",
        "print(x.dot(v))\n",
        "print(np.dot(x, v))"
      ],
      "outputs": [
        {
          "output_type": "stream",
          "name": "stdout",
          "text": [
            "[29 67]\n",
            "[29 67]\n"
          ]
        }
      ],
      "metadata": {
        "id": "7n867JYJOJSB",
        "outputId": "e32052ed-65c8-40bf-cb6d-83f823984bce",
        "colab": {
          "base_uri": "https://localhost:8080/"
        }
      },
      "execution_count": 79
    },
    {
      "cell_type": "code",
      "source": [
        "# Matrix / matrix product; both produce the rank 2 array\n",
        "# [[19 22]\n",
        "#  [43 50]]\n",
        "print(x.dot(y))\n",
        "print(np.dot(x, y))"
      ],
      "outputs": [
        {
          "output_type": "stream",
          "name": "stdout",
          "text": [
            "[[19 22]\n",
            " [43 50]]\n",
            "[[19 22]\n",
            " [43 50]]\n"
          ]
        }
      ],
      "metadata": {
        "id": "D8fdpkV3OJSB",
        "outputId": "30c5ca5a-c74c-47d3-96ed-9d626c499557",
        "colab": {
          "base_uri": "https://localhost:8080/"
        }
      },
      "execution_count": 80
    },
    {
      "cell_type": "markdown",
      "source": [
        "Numpy provides many useful functions for performing computations on arrays; one of the most useful is `sum`:"
      ],
      "metadata": {
        "id": "0Yncsw2yOJSB"
      }
    },
    {
      "cell_type": "code",
      "source": [
        "x = np.array([[1,2],[3,4]])\n",
        "\n",
        "print(np.sum(x))  # Compute sum of all elements; prints \"10\"\n",
        "print(np.sum(x, axis=0))  # Compute sum of each column; prints \"[4 6]\"\n",
        "print(np.sum(x, axis=1))  # Compute sum of each row; prints \"[3 7]\""
      ],
      "outputs": [
        {
          "output_type": "stream",
          "name": "stdout",
          "text": [
            "10\n",
            "[4 6]\n",
            "[3 7]\n"
          ]
        }
      ],
      "metadata": {
        "id": "oNiEtyopOJSB",
        "outputId": "11fa62d4-0a7b-467d-fa2c-15e3aea894e1",
        "colab": {
          "base_uri": "https://localhost:8080/"
        }
      },
      "execution_count": 81
    },
    {
      "cell_type": "markdown",
      "source": [
        "You can find the full list of mathematical functions provided by numpy in the [documentation](http://docs.scipy.org/doc/numpy/reference/routines.math.html).\n",
        "\n",
        "Apart from computing mathematical functions using arrays, we frequently need to reshape or otherwise manipulate data in arrays. The simplest example of this type of operation is transposing a matrix; to transpose a matrix, simply use the T attribute of an array object:"
      ],
      "metadata": {
        "id": "mTcuVj4-OJSB"
      }
    },
    {
      "cell_type": "code",
      "source": [
        "print(x)\n",
        "print(x.T)"
      ],
      "outputs": [
        {
          "output_type": "stream",
          "name": "stdout",
          "text": [
            "[[1 2]\n",
            " [3 4]]\n",
            "[[1 3]\n",
            " [2 4]]\n"
          ]
        }
      ],
      "metadata": {
        "id": "Bvdba99NOJSB",
        "outputId": "1ccd836f-f615-4832-9ade-53f4bfa33b12",
        "colab": {
          "base_uri": "https://localhost:8080/"
        }
      },
      "execution_count": 82
    },
    {
      "cell_type": "code",
      "source": [
        "v = np.array([[1,2,3]])\n",
        "print(v)\n",
        "print(v.T)"
      ],
      "outputs": [
        {
          "output_type": "stream",
          "name": "stdout",
          "text": [
            "[[1 2 3]]\n",
            "[[1]\n",
            " [2]\n",
            " [3]]\n"
          ]
        }
      ],
      "metadata": {
        "id": "ym8vhnspOJSB",
        "outputId": "317159ac-e0fa-4b94-e78b-bdeaeeac42ed",
        "colab": {
          "base_uri": "https://localhost:8080/"
        }
      },
      "execution_count": 83
    },
    {
      "cell_type": "markdown",
      "source": [
        "###Broadcasting"
      ],
      "metadata": {
        "id": "Oz_5uJ7kOJSB"
      }
    },
    {
      "cell_type": "markdown",
      "source": [
        "Broadcasting is a powerful mechanism that allows numpy to work with arrays of different shapes when performing arithmetic operations. Frequently we have a smaller array and a larger array, and we want to use the smaller array multiple times to perform some operation on the larger array.\n",
        "\n",
        "For example, suppose that we want to add a constant vector to each row of a matrix. We could do it like this:"
      ],
      "metadata": {
        "id": "NDN_-gPEOJSB"
      }
    },
    {
      "cell_type": "code",
      "source": [
        "# We will add the vector v to each row of the matrix x,\n",
        "# storing the result in the matrix y\n",
        "x = np.array([[1,2,3], [4,5,6], [7,8,9], [10, 11, 12]])\n",
        "v = np.array([1, 0, 1])\n",
        "y = np.empty_like(x)   # Create an empty matrix with the same shape as x\n",
        "\n",
        "# Add the vector v to each row of the matrix x with an explicit loop\n",
        "for i in range(4):\n",
        "    y[i, :] = x[i, :] + v\n",
        "\n",
        "print(y)"
      ],
      "outputs": [
        {
          "output_type": "stream",
          "name": "stdout",
          "text": [
            "[[ 2  2  4]\n",
            " [ 5  5  7]\n",
            " [ 8  8 10]\n",
            " [11 11 13]]\n"
          ]
        }
      ],
      "metadata": {
        "id": "ClnVktpBOJSB",
        "outputId": "78d3f369-71f0-4013-a9c2-805bf118a270",
        "colab": {
          "base_uri": "https://localhost:8080/"
        }
      },
      "execution_count": 84
    },
    {
      "cell_type": "markdown",
      "source": [
        "This works; however when the matrix `x` is very large, computing an explicit loop in Python could be slow. Note that adding the vector v to each row of the matrix `x` is equivalent to forming a matrix `vv` by stacking multiple copies of `v` vertically, then performing elementwise summation of `x` and `vv`. We could implement this approach like this:"
      ],
      "metadata": {
        "id": "DRpShBGAOJSB"
      }
    },
    {
      "cell_type": "code",
      "source": [
        "vv = np.tile(v, (4, 1))  # Stack 4 copies of v on top of each other\n",
        "print(vv)                 # Prints \"[[1 0 1]\n",
        "                         #          [1 0 1]\n",
        "                         #          [1 0 1]\n",
        "                         #          [1 0 1]]\""
      ],
      "outputs": [
        {
          "output_type": "stream",
          "name": "stdout",
          "text": [
            "[[1 0 1]\n",
            " [1 0 1]\n",
            " [1 0 1]\n",
            " [1 0 1]]\n"
          ]
        }
      ],
      "metadata": {
        "id": "1xxSse08OJSB",
        "outputId": "daa5b624-ab9c-496d-c5e7-071c3680e034",
        "colab": {
          "base_uri": "https://localhost:8080/"
        }
      },
      "execution_count": 85
    },
    {
      "cell_type": "code",
      "source": [
        "y = x + vv  # Add x and vv elementwise\n",
        "print(y)"
      ],
      "outputs": [
        {
          "output_type": "stream",
          "name": "stdout",
          "text": [
            "[[ 2  2  4]\n",
            " [ 5  5  7]\n",
            " [ 8  8 10]\n",
            " [11 11 13]]\n"
          ]
        }
      ],
      "metadata": {
        "id": "Aij8osvvOJSC",
        "outputId": "6cc372fb-2948-438f-fce4-b7c649fe4ec6",
        "colab": {
          "base_uri": "https://localhost:8080/"
        }
      },
      "execution_count": 86
    },
    {
      "cell_type": "markdown",
      "source": [
        "Numpy broadcasting allows us to perform this computation without actually creating multiple copies of v. Consider this version, using broadcasting:"
      ],
      "metadata": {
        "id": "0seg8da0OJSC"
      }
    },
    {
      "cell_type": "code",
      "source": [
        "import numpy as np\n",
        "\n",
        "# We will add the vector v to each row of the matrix x,\n",
        "# storing the result in the matrix y\n",
        "x = np.array([[1,2,3], [4,5,6], [7,8,9], [10, 11, 12]])\n",
        "v = np.array([1, 0, 1])\n",
        "y = x + v  # Add v to each row of x using broadcasting\n",
        "print(y)"
      ],
      "outputs": [
        {
          "output_type": "stream",
          "name": "stdout",
          "text": [
            "[[ 2  2  4]\n",
            " [ 5  5  7]\n",
            " [ 8  8 10]\n",
            " [11 11 13]]\n"
          ]
        }
      ],
      "metadata": {
        "id": "FGYq0jATOJSC",
        "outputId": "f2bd341b-ae0d-42b3-ffb0-708e86fd2452",
        "colab": {
          "base_uri": "https://localhost:8080/"
        }
      },
      "execution_count": 87
    },
    {
      "cell_type": "code",
      "source": [],
      "metadata": {
        "id": "oql1jy24Rg4n"
      },
      "execution_count": null,
      "outputs": []
    }
  ]
}